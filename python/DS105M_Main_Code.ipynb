{
  "nbformat": 4,
  "nbformat_minor": 0,
  "metadata": {
    "colab": {
      "provenance": []
    },
    "kernelspec": {
      "name": "python3",
      "display_name": "Python 3"
    },
    "language_info": {
      "name": "python"
    }
  },
  "cells": [
    {
      "cell_type": "code",
      "source": [
        "# Important note: this program was developed in Google Colab. \n",
        "# We recommend running this program in Google Colab. \n",
        "# CSV export code is integrated with Google Drive and will only run in Google Colab. Thank you."
      ],
      "metadata": {
        "id": "LvcIine7Ub_u"
      },
      "execution_count": null,
      "outputs": []
    },
    {
      "cell_type": "code",
      "source": [
        "import requests\n",
        "from bs4 import BeautifulSoup\n",
        "import pandas as pd\n",
        "from urllib.parse import urlencode\n",
        "import csv"
      ],
      "metadata": {
        "id": "CD2L8lD3Tupm"
      },
      "execution_count": null,
      "outputs": []
    },
    {
      "cell_type": "code",
      "source": [
        "list_of_urls = []\n",
        "list_of_urls2 = []\n",
        "list_of_urls3 = []\n",
        "list_of_urls4 = []\n",
        "list_of_urls5 = []\n",
        "\n",
        "#Code for generating first 50 Amazon URLs (500 reviews)\n",
        "for i in range(1, 50): # Generate URLs\n",
        "   url = \"https://www.amazon.com/Logitech-MX-Master-3S-Pale/product-reviews/B09HMKFDXC/ref=cm_cr_arp_d_viewopt_srt?ie=UTF8&reviewerType=all_reviews&sortBy=recent&pageNumber=\" \n",
        "   + str(i) # Construct URL with page number\n",
        "   list_of_urls.append(url) # Add URL to list of URLs\n",
        "\n",
        "#Repeat until 261\n",
        "for i in range(51, 100): \n",
        "   url = url + str(i)\n",
        "   list_of_urls2.append(url)\n",
        "\n",
        "for i in range(101, 150): \n",
        "   url = url + str(i)\n",
        "   list_of_urls3.append(url)\n",
        "\n",
        "for i in range(151, 200): \n",
        "   url = url + str(i)\n",
        "   list_of_urls4.append(url)\n",
        "\n",
        "for i in range(201, 262): \n",
        "   url = url + str(i)\n",
        "   list_of_urls5.append(url)"
      ],
      "metadata": {
        "colab": {
          "base_uri": "https://localhost:8080/"
        },
        "id": "2Grlj1rZVUg5",
        "outputId": "f4f2d3c2-3ffd-4c7c-f4c9-4e0a6fb1946a"
      },
      "execution_count": null,
      "outputs": [
        {
          "output_type": "stream",
          "name": "stdout",
          "text": [
            "['https://www.amazon.com/Logitech-MX-Master-3S-Pale/product-reviews/B09HMKFDXC/ref=cm_cr_arp_d_viewopt_srt?ie=UTF8&reviewerType=all_reviews&sortBy=recent&pageNumber=201', 'https://www.amazon.com/Logitech-MX-Master-3S-Pale/product-reviews/B09HMKFDXC/ref=cm_cr_arp_d_viewopt_srt?ie=UTF8&reviewerType=all_reviews&sortBy=recent&pageNumber=202', 'https://www.amazon.com/Logitech-MX-Master-3S-Pale/product-reviews/B09HMKFDXC/ref=cm_cr_arp_d_viewopt_srt?ie=UTF8&reviewerType=all_reviews&sortBy=recent&pageNumber=203', 'https://www.amazon.com/Logitech-MX-Master-3S-Pale/product-reviews/B09HMKFDXC/ref=cm_cr_arp_d_viewopt_srt?ie=UTF8&reviewerType=all_reviews&sortBy=recent&pageNumber=204', 'https://www.amazon.com/Logitech-MX-Master-3S-Pale/product-reviews/B09HMKFDXC/ref=cm_cr_arp_d_viewopt_srt?ie=UTF8&reviewerType=all_reviews&sortBy=recent&pageNumber=205', 'https://www.amazon.com/Logitech-MX-Master-3S-Pale/product-reviews/B09HMKFDXC/ref=cm_cr_arp_d_viewopt_srt?ie=UTF8&reviewerType=all_reviews&sortBy=recent&pageNumber=206', 'https://www.amazon.com/Logitech-MX-Master-3S-Pale/product-reviews/B09HMKFDXC/ref=cm_cr_arp_d_viewopt_srt?ie=UTF8&reviewerType=all_reviews&sortBy=recent&pageNumber=207', 'https://www.amazon.com/Logitech-MX-Master-3S-Pale/product-reviews/B09HMKFDXC/ref=cm_cr_arp_d_viewopt_srt?ie=UTF8&reviewerType=all_reviews&sortBy=recent&pageNumber=208', 'https://www.amazon.com/Logitech-MX-Master-3S-Pale/product-reviews/B09HMKFDXC/ref=cm_cr_arp_d_viewopt_srt?ie=UTF8&reviewerType=all_reviews&sortBy=recent&pageNumber=209', 'https://www.amazon.com/Logitech-MX-Master-3S-Pale/product-reviews/B09HMKFDXC/ref=cm_cr_arp_d_viewopt_srt?ie=UTF8&reviewerType=all_reviews&sortBy=recent&pageNumber=210', 'https://www.amazon.com/Logitech-MX-Master-3S-Pale/product-reviews/B09HMKFDXC/ref=cm_cr_arp_d_viewopt_srt?ie=UTF8&reviewerType=all_reviews&sortBy=recent&pageNumber=211', 'https://www.amazon.com/Logitech-MX-Master-3S-Pale/product-reviews/B09HMKFDXC/ref=cm_cr_arp_d_viewopt_srt?ie=UTF8&reviewerType=all_reviews&sortBy=recent&pageNumber=212', 'https://www.amazon.com/Logitech-MX-Master-3S-Pale/product-reviews/B09HMKFDXC/ref=cm_cr_arp_d_viewopt_srt?ie=UTF8&reviewerType=all_reviews&sortBy=recent&pageNumber=213', 'https://www.amazon.com/Logitech-MX-Master-3S-Pale/product-reviews/B09HMKFDXC/ref=cm_cr_arp_d_viewopt_srt?ie=UTF8&reviewerType=all_reviews&sortBy=recent&pageNumber=214', 'https://www.amazon.com/Logitech-MX-Master-3S-Pale/product-reviews/B09HMKFDXC/ref=cm_cr_arp_d_viewopt_srt?ie=UTF8&reviewerType=all_reviews&sortBy=recent&pageNumber=215', 'https://www.amazon.com/Logitech-MX-Master-3S-Pale/product-reviews/B09HMKFDXC/ref=cm_cr_arp_d_viewopt_srt?ie=UTF8&reviewerType=all_reviews&sortBy=recent&pageNumber=216', 'https://www.amazon.com/Logitech-MX-Master-3S-Pale/product-reviews/B09HMKFDXC/ref=cm_cr_arp_d_viewopt_srt?ie=UTF8&reviewerType=all_reviews&sortBy=recent&pageNumber=217', 'https://www.amazon.com/Logitech-MX-Master-3S-Pale/product-reviews/B09HMKFDXC/ref=cm_cr_arp_d_viewopt_srt?ie=UTF8&reviewerType=all_reviews&sortBy=recent&pageNumber=218', 'https://www.amazon.com/Logitech-MX-Master-3S-Pale/product-reviews/B09HMKFDXC/ref=cm_cr_arp_d_viewopt_srt?ie=UTF8&reviewerType=all_reviews&sortBy=recent&pageNumber=219', 'https://www.amazon.com/Logitech-MX-Master-3S-Pale/product-reviews/B09HMKFDXC/ref=cm_cr_arp_d_viewopt_srt?ie=UTF8&reviewerType=all_reviews&sortBy=recent&pageNumber=220', 'https://www.amazon.com/Logitech-MX-Master-3S-Pale/product-reviews/B09HMKFDXC/ref=cm_cr_arp_d_viewopt_srt?ie=UTF8&reviewerType=all_reviews&sortBy=recent&pageNumber=221', 'https://www.amazon.com/Logitech-MX-Master-3S-Pale/product-reviews/B09HMKFDXC/ref=cm_cr_arp_d_viewopt_srt?ie=UTF8&reviewerType=all_reviews&sortBy=recent&pageNumber=222', 'https://www.amazon.com/Logitech-MX-Master-3S-Pale/product-reviews/B09HMKFDXC/ref=cm_cr_arp_d_viewopt_srt?ie=UTF8&reviewerType=all_reviews&sortBy=recent&pageNumber=223', 'https://www.amazon.com/Logitech-MX-Master-3S-Pale/product-reviews/B09HMKFDXC/ref=cm_cr_arp_d_viewopt_srt?ie=UTF8&reviewerType=all_reviews&sortBy=recent&pageNumber=224', 'https://www.amazon.com/Logitech-MX-Master-3S-Pale/product-reviews/B09HMKFDXC/ref=cm_cr_arp_d_viewopt_srt?ie=UTF8&reviewerType=all_reviews&sortBy=recent&pageNumber=225', 'https://www.amazon.com/Logitech-MX-Master-3S-Pale/product-reviews/B09HMKFDXC/ref=cm_cr_arp_d_viewopt_srt?ie=UTF8&reviewerType=all_reviews&sortBy=recent&pageNumber=226', 'https://www.amazon.com/Logitech-MX-Master-3S-Pale/product-reviews/B09HMKFDXC/ref=cm_cr_arp_d_viewopt_srt?ie=UTF8&reviewerType=all_reviews&sortBy=recent&pageNumber=227', 'https://www.amazon.com/Logitech-MX-Master-3S-Pale/product-reviews/B09HMKFDXC/ref=cm_cr_arp_d_viewopt_srt?ie=UTF8&reviewerType=all_reviews&sortBy=recent&pageNumber=228', 'https://www.amazon.com/Logitech-MX-Master-3S-Pale/product-reviews/B09HMKFDXC/ref=cm_cr_arp_d_viewopt_srt?ie=UTF8&reviewerType=all_reviews&sortBy=recent&pageNumber=229', 'https://www.amazon.com/Logitech-MX-Master-3S-Pale/product-reviews/B09HMKFDXC/ref=cm_cr_arp_d_viewopt_srt?ie=UTF8&reviewerType=all_reviews&sortBy=recent&pageNumber=230', 'https://www.amazon.com/Logitech-MX-Master-3S-Pale/product-reviews/B09HMKFDXC/ref=cm_cr_arp_d_viewopt_srt?ie=UTF8&reviewerType=all_reviews&sortBy=recent&pageNumber=231', 'https://www.amazon.com/Logitech-MX-Master-3S-Pale/product-reviews/B09HMKFDXC/ref=cm_cr_arp_d_viewopt_srt?ie=UTF8&reviewerType=all_reviews&sortBy=recent&pageNumber=232', 'https://www.amazon.com/Logitech-MX-Master-3S-Pale/product-reviews/B09HMKFDXC/ref=cm_cr_arp_d_viewopt_srt?ie=UTF8&reviewerType=all_reviews&sortBy=recent&pageNumber=233', 'https://www.amazon.com/Logitech-MX-Master-3S-Pale/product-reviews/B09HMKFDXC/ref=cm_cr_arp_d_viewopt_srt?ie=UTF8&reviewerType=all_reviews&sortBy=recent&pageNumber=234', 'https://www.amazon.com/Logitech-MX-Master-3S-Pale/product-reviews/B09HMKFDXC/ref=cm_cr_arp_d_viewopt_srt?ie=UTF8&reviewerType=all_reviews&sortBy=recent&pageNumber=235', 'https://www.amazon.com/Logitech-MX-Master-3S-Pale/product-reviews/B09HMKFDXC/ref=cm_cr_arp_d_viewopt_srt?ie=UTF8&reviewerType=all_reviews&sortBy=recent&pageNumber=236', 'https://www.amazon.com/Logitech-MX-Master-3S-Pale/product-reviews/B09HMKFDXC/ref=cm_cr_arp_d_viewopt_srt?ie=UTF8&reviewerType=all_reviews&sortBy=recent&pageNumber=237', 'https://www.amazon.com/Logitech-MX-Master-3S-Pale/product-reviews/B09HMKFDXC/ref=cm_cr_arp_d_viewopt_srt?ie=UTF8&reviewerType=all_reviews&sortBy=recent&pageNumber=238', 'https://www.amazon.com/Logitech-MX-Master-3S-Pale/product-reviews/B09HMKFDXC/ref=cm_cr_arp_d_viewopt_srt?ie=UTF8&reviewerType=all_reviews&sortBy=recent&pageNumber=239', 'https://www.amazon.com/Logitech-MX-Master-3S-Pale/product-reviews/B09HMKFDXC/ref=cm_cr_arp_d_viewopt_srt?ie=UTF8&reviewerType=all_reviews&sortBy=recent&pageNumber=240', 'https://www.amazon.com/Logitech-MX-Master-3S-Pale/product-reviews/B09HMKFDXC/ref=cm_cr_arp_d_viewopt_srt?ie=UTF8&reviewerType=all_reviews&sortBy=recent&pageNumber=241', 'https://www.amazon.com/Logitech-MX-Master-3S-Pale/product-reviews/B09HMKFDXC/ref=cm_cr_arp_d_viewopt_srt?ie=UTF8&reviewerType=all_reviews&sortBy=recent&pageNumber=242', 'https://www.amazon.com/Logitech-MX-Master-3S-Pale/product-reviews/B09HMKFDXC/ref=cm_cr_arp_d_viewopt_srt?ie=UTF8&reviewerType=all_reviews&sortBy=recent&pageNumber=243', 'https://www.amazon.com/Logitech-MX-Master-3S-Pale/product-reviews/B09HMKFDXC/ref=cm_cr_arp_d_viewopt_srt?ie=UTF8&reviewerType=all_reviews&sortBy=recent&pageNumber=244', 'https://www.amazon.com/Logitech-MX-Master-3S-Pale/product-reviews/B09HMKFDXC/ref=cm_cr_arp_d_viewopt_srt?ie=UTF8&reviewerType=all_reviews&sortBy=recent&pageNumber=245', 'https://www.amazon.com/Logitech-MX-Master-3S-Pale/product-reviews/B09HMKFDXC/ref=cm_cr_arp_d_viewopt_srt?ie=UTF8&reviewerType=all_reviews&sortBy=recent&pageNumber=246', 'https://www.amazon.com/Logitech-MX-Master-3S-Pale/product-reviews/B09HMKFDXC/ref=cm_cr_arp_d_viewopt_srt?ie=UTF8&reviewerType=all_reviews&sortBy=recent&pageNumber=247', 'https://www.amazon.com/Logitech-MX-Master-3S-Pale/product-reviews/B09HMKFDXC/ref=cm_cr_arp_d_viewopt_srt?ie=UTF8&reviewerType=all_reviews&sortBy=recent&pageNumber=248', 'https://www.amazon.com/Logitech-MX-Master-3S-Pale/product-reviews/B09HMKFDXC/ref=cm_cr_arp_d_viewopt_srt?ie=UTF8&reviewerType=all_reviews&sortBy=recent&pageNumber=249', 'https://www.amazon.com/Logitech-MX-Master-3S-Pale/product-reviews/B09HMKFDXC/ref=cm_cr_arp_d_viewopt_srt?ie=UTF8&reviewerType=all_reviews&sortBy=recent&pageNumber=250', 'https://www.amazon.com/Logitech-MX-Master-3S-Pale/product-reviews/B09HMKFDXC/ref=cm_cr_arp_d_viewopt_srt?ie=UTF8&reviewerType=all_reviews&sortBy=recent&pageNumber=251', 'https://www.amazon.com/Logitech-MX-Master-3S-Pale/product-reviews/B09HMKFDXC/ref=cm_cr_arp_d_viewopt_srt?ie=UTF8&reviewerType=all_reviews&sortBy=recent&pageNumber=252', 'https://www.amazon.com/Logitech-MX-Master-3S-Pale/product-reviews/B09HMKFDXC/ref=cm_cr_arp_d_viewopt_srt?ie=UTF8&reviewerType=all_reviews&sortBy=recent&pageNumber=253', 'https://www.amazon.com/Logitech-MX-Master-3S-Pale/product-reviews/B09HMKFDXC/ref=cm_cr_arp_d_viewopt_srt?ie=UTF8&reviewerType=all_reviews&sortBy=recent&pageNumber=254', 'https://www.amazon.com/Logitech-MX-Master-3S-Pale/product-reviews/B09HMKFDXC/ref=cm_cr_arp_d_viewopt_srt?ie=UTF8&reviewerType=all_reviews&sortBy=recent&pageNumber=255', 'https://www.amazon.com/Logitech-MX-Master-3S-Pale/product-reviews/B09HMKFDXC/ref=cm_cr_arp_d_viewopt_srt?ie=UTF8&reviewerType=all_reviews&sortBy=recent&pageNumber=256', 'https://www.amazon.com/Logitech-MX-Master-3S-Pale/product-reviews/B09HMKFDXC/ref=cm_cr_arp_d_viewopt_srt?ie=UTF8&reviewerType=all_reviews&sortBy=recent&pageNumber=257', 'https://www.amazon.com/Logitech-MX-Master-3S-Pale/product-reviews/B09HMKFDXC/ref=cm_cr_arp_d_viewopt_srt?ie=UTF8&reviewerType=all_reviews&sortBy=recent&pageNumber=258', 'https://www.amazon.com/Logitech-MX-Master-3S-Pale/product-reviews/B09HMKFDXC/ref=cm_cr_arp_d_viewopt_srt?ie=UTF8&reviewerType=all_reviews&sortBy=recent&pageNumber=259', 'https://www.amazon.com/Logitech-MX-Master-3S-Pale/product-reviews/B09HMKFDXC/ref=cm_cr_arp_d_viewopt_srt?ie=UTF8&reviewerType=all_reviews&sortBy=recent&pageNumber=260', 'https://www.amazon.com/Logitech-MX-Master-3S-Pale/product-reviews/B09HMKFDXC/ref=cm_cr_arp_d_viewopt_srt?ie=UTF8&reviewerType=all_reviews&sortBy=recent&pageNumber=261']\n"
          ]
        }
      ]
    },
    {
      "cell_type": "code",
      "source": [
        "all_reviews = [] \n",
        "\n",
        "for url in list_of_urls: # Define API key and URL parameters\n",
        "   params = {'api_key': \"INSERT-API-KEY-HERE\", 'url': url} # Send request to API with parameters\n",
        "   response = requests.get('http://api.scraperapi.com/', params=urlencode(params)) # Use BeautifulSoup to parse response\n",
        "   soup = BeautifulSoup(response.text, 'html.parser')\n",
        "\n",
        "     just_the_right_div = soup.find(\"div\", attrs={\"id\": \"cm_cr-review_list\"}) #Finds div with Beautiful Soup\n",
        "     all_review_divs = just_the_right_div.find_all(\"div\", attrs={\"data-hook\": \"review\"}) #Finds all reviews\n",
        "\n",
        "    for review_div in all_review_divs:\n",
        "        # Extracts specific data for each of our 4 data variables\n",
        "        username     = review_div.find(\"span\", class_=\"a-profile-name\")\n",
        "        rating       = review_div.find(\"span\", {\"class\": \"a-icon-alt\"})\n",
        "        review       = review_div.find(\"span\", {\"data-hook\": \"review-body\"})\n",
        "        review_date  = review_div.find(\"span\", {\"class\": \"a-size-base a-color-secondary review-date\"})\n",
        "        \n",
        "        single_review = {'Reviewer Name': username, 'Star Rating': rating, \n",
        "                         'Review': review, 'Review Dates': review_date} #Creates and stores data into a dictionary\n",
        "        all_reviews.append(single_review) #Combines variables in dictionaries by appending\n",
        "\n",
        "df = pd.DataFrame(all_reviews) # Converts dictionaries into a pandas data frame"
      ],
      "metadata": {
        "id": "Ys-BhWoQKKKF"
      },
      "execution_count": null,
      "outputs": []
    },
    {
      "cell_type": "code",
      "source": [
        "all_reviews2 = [] #list of dictionaries, each dictionary is a review\n",
        "\n",
        "for url in list_of_urls2: \n",
        "    params = {'api_key': \"INSERT-API-KEY-HERE\", 'url': url}\n",
        "    response = requests.get('http://api.scraperapi.com/',   params=urlencode(params))\n",
        "    soup = BeautifulSoup(response.text, 'html.parser')\n",
        "\n",
        "    just_the_right_div = soup.find(\"div\", attrs={\"id\": \"cm_cr-review_list\"})\n",
        "    #all_review_divs = just_the_right_div.find_all(\"div\", attr={\"class\": \"reviews-content\"})\n",
        "    all_review_divs = just_the_right_div.find_all(\"div\", attrs={\"data-hook\": \"review\"})\n",
        "\n",
        "    for review_div in all_review_divs:\n",
        "        username     = review_div.find(\"span\", class_=\"a-profile-name\")\n",
        "        rating       = review_div.find(\"span\", {\"class\": \"a-icon-alt\"})\n",
        "        review       = review_div.find(\"span\", {\"data-hook\": \"review-body\"})\n",
        "        review_date  = review_div.find(\"span\", {\"class\": \"a-size-base a-color-secondary review-date\"})\n",
        "        \n",
        "        single_review2 = {'Reviewer Name': username, 'Star Rating': rating, 'Review': review, 'Review Dates': review_date}\n",
        "        all_reviews2.append(single_review2)   \n",
        "    \n",
        "df2 = pd.DataFrame(all_reviews2)"
      ],
      "metadata": {
        "id": "ERx1xmcdoc8T"
      },
      "execution_count": null,
      "outputs": []
    },
    {
      "cell_type": "code",
      "source": [
        "all_reviews3 = [] #list of dictionaries, each dictionary is a review\n",
        "\n",
        "for url in list_of_urls3: \n",
        "    params = {'api_key': \"INSERT-API-KEY-HERE\", 'url': url}\n",
        "    response = requests.get('http://api.scraperapi.com/',   params=urlencode(params))\n",
        "    soup = BeautifulSoup(response.text, 'html.parser')\n",
        "\n",
        "    just_the_right_div = soup.find(\"div\", attrs={\"id\": \"cm_cr-review_list\"})\n",
        "    #all_review_divs = just_the_right_div.find_all(\"div\", attr={\"class\": \"reviews-content\"})\n",
        "    all_review_divs = just_the_right_div.find_all(\"div\", attrs={\"data-hook\": \"review\"})\n",
        "\n",
        "    for review_div in all_review_divs:\n",
        "        username     = review_div.find(\"span\", class_=\"a-profile-name\")\n",
        "        rating       = review_div.find(\"span\", {\"class\": \"a-icon-alt\"})\n",
        "        review       = review_div.find(\"span\", {\"data-hook\": \"review-body\"})\n",
        "        review_date  = review_div.find(\"span\", {\"class\": \"a-size-base a-color-secondary review-date\"})\n",
        "        \n",
        "        single_review3 = {'Reviewer Name': username, 'Star Rating': rating, 'Review': review, 'Review Dates': review_date}\n",
        "        all_reviews3.append(single_review3)   \n",
        "    \n",
        "df3 = pd.DataFrame(all_reviews3)"
      ],
      "metadata": {
        "id": "xt27CsH8omz2"
      },
      "execution_count": null,
      "outputs": []
    },
    {
      "cell_type": "code",
      "source": [
        "all_reviews4 = [] #list of dictionaries, each dictionary is a review\n",
        "\n",
        "for url in list_of_urls4: \n",
        "    params = {'api_key': \"INSERT-API-KEY-HERE\", 'url': url}\n",
        "    response = requests.get('http://api.scraperapi.com/',   params=urlencode(params))\n",
        "    soup = BeautifulSoup(response.text, 'html.parser')\n",
        "\n",
        "    just_the_right_div = soup.find(\"div\", attrs={\"id\": \"cm_cr-review_list\"})\n",
        "    #all_review_divs = just_the_right_div.find_all(\"div\", attr={\"class\": \"reviews-content\"})\n",
        "    all_review_divs = just_the_right_div.find_all(\"div\", attrs={\"data-hook\": \"review\"})\n",
        "\n",
        "    for review_div in all_review_divs:\n",
        "        username     = review_div.find(\"span\", class_=\"a-profile-name\")\n",
        "        rating       = review_div.find(\"span\", {\"class\": \"a-icon-alt\"})\n",
        "        review       = review_div.find(\"span\", {\"data-hook\": \"review-body\"})\n",
        "        review_date  = review_div.find(\"span\", {\"class\": \"a-size-base a-color-secondary review-date\"})\n",
        "        \n",
        "        single_review4 = {'Reviewer Name': username, 'Star Rating': rating, 'Review': review, 'Review Dates': review_date}\n",
        "        all_reviews4.append(single_review4)   \n",
        "    \n",
        "df4 = pd.DataFrame(all_reviews4)"
      ],
      "metadata": {
        "id": "7nXdmBpjo9R9"
      },
      "execution_count": null,
      "outputs": []
    },
    {
      "cell_type": "code",
      "source": [
        "all_reviews5 = [] #list of dictionaries, each dictionary is a review\n",
        "\n",
        "for url in list_of_urls5: \n",
        "    params = {'api_key': \"INSERT-API-KEY-HERE\", 'url': url}\n",
        "    response = requests.get('http://api.scraperapi.com/',   params=urlencode(params))\n",
        "    soup = BeautifulSoup(response.text, 'html.parser')\n",
        "\n",
        "    just_the_right_div = soup.find(\"div\", attrs={\"id\": \"cm_cr-review_list\"})\n",
        "    #all_review_divs = just_the_right_div.find_all(\"div\", attr={\"class\": \"reviews-content\"})\n",
        "    all_review_divs = just_the_right_div.find_all(\"div\", attrs={\"data-hook\": \"review\"})\n",
        "\n",
        "    for review_div in all_review_divs:\n",
        "        username     = review_div.find(\"span\", class_=\"a-profile-name\")\n",
        "        rating       = review_div.find(\"span\", {\"class\": \"a-icon-alt\"})\n",
        "        review       = review_div.find(\"span\", {\"data-hook\": \"review-body\"})\n",
        "        review_date  = review_div.find(\"span\", {\"class\": \"a-size-base a-color-secondary review-date\"})\n",
        "        \n",
        "        single_review5 = {'Reviewer Name': username, 'Star Rating': rating, 'Review': review, 'Review Dates': review_date}\n",
        "        all_reviews5.append(single_review5)   \n",
        "    \n",
        "df5 = pd.DataFrame(all_reviews5)"
      ],
      "metadata": {
        "id": "bDdTH6B0pUVt"
      },
      "execution_count": null,
      "outputs": []
    },
    {
      "cell_type": "code",
      "source": [
        "df_complete = pd.concat([df, df2, df3, df4, df5], axis=0)\n",
        "\n",
        "df_complete.to_csv('amazon_reviews_uncleaned.csv')\n",
        "#converts file to csv\n",
        "\n",
        "from google.colab import files\n",
        "files.download(\"amazon_reviews_uncleaned.csv\")"
      ],
      "metadata": {
        "colab": {
          "base_uri": "https://localhost:8080/",
          "height": 17
        },
        "id": "g04LZlJ65rQN",
        "outputId": "b6b27639-3272-40f6-a8a3-ade0772e4ef9"
      },
      "execution_count": null,
      "outputs": [
        {
          "output_type": "display_data",
          "data": {
            "text/plain": [
              "<IPython.core.display.Javascript object>"
            ],
            "application/javascript": [
              "\n",
              "    async function download(id, filename, size) {\n",
              "      if (!google.colab.kernel.accessAllowed) {\n",
              "        return;\n",
              "      }\n",
              "      const div = document.createElement('div');\n",
              "      const label = document.createElement('label');\n",
              "      label.textContent = `Downloading \"${filename}\": `;\n",
              "      div.appendChild(label);\n",
              "      const progress = document.createElement('progress');\n",
              "      progress.max = size;\n",
              "      div.appendChild(progress);\n",
              "      document.body.appendChild(div);\n",
              "\n",
              "      const buffers = [];\n",
              "      let downloaded = 0;\n",
              "\n",
              "      const channel = await google.colab.kernel.comms.open(id);\n",
              "      // Send a message to notify the kernel that we're ready.\n",
              "      channel.send({})\n",
              "\n",
              "      for await (const message of channel.messages) {\n",
              "        // Send a message to notify the kernel that we're ready.\n",
              "        channel.send({})\n",
              "        if (message.buffers) {\n",
              "          for (const buffer of message.buffers) {\n",
              "            buffers.push(buffer);\n",
              "            downloaded += buffer.byteLength;\n",
              "            progress.value = downloaded;\n",
              "          }\n",
              "        }\n",
              "      }\n",
              "      const blob = new Blob(buffers, {type: 'application/binary'});\n",
              "      const a = document.createElement('a');\n",
              "      a.href = window.URL.createObjectURL(blob);\n",
              "      a.download = filename;\n",
              "      div.appendChild(a);\n",
              "      a.click();\n",
              "      div.remove();\n",
              "    }\n",
              "  "
            ]
          },
          "metadata": {}
        },
        {
          "output_type": "display_data",
          "data": {
            "text/plain": [
              "<IPython.core.display.Javascript object>"
            ],
            "application/javascript": [
              "download(\"download_337e868a-e627-48c5-bd95-93140cf3dc30\", \"amazon_reviews_uncleaned.csv\", 2630949)"
            ]
          },
          "metadata": {}
        }
      ]
    }
  ]
}